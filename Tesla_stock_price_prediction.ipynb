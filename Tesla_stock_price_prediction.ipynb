{
 "cells": [
  {
   "cell_type": "markdown",
   "id": "33453d32",
   "metadata": {},
   "source": [
    "### Stock Market Prediction\n"
   ]
  },
  {
   "cell_type": "code",
   "execution_count": 2,
   "id": "ada411a2",
   "metadata": {},
   "outputs": [
    {
     "name": "stdout",
     "output_type": "stream",
     "text": [
      "/bin/bash: /home/deval21/miniconda3/envs/tf/lib/libtinfo.so.6: no version information available (required by /bin/bash)\n",
      "Collecting pandas_datareader\n",
      "  Using cached pandas_datareader-0.10.0-py3-none-any.whl (109 kB)\n",
      "Requirement already satisfied: lxml in /home/deval21/miniconda3/envs/tf/lib/python3.9/site-packages (from pandas_datareader) (4.9.1)\n",
      "Requirement already satisfied: requests>=2.19.0 in /home/deval21/miniconda3/envs/tf/lib/python3.9/site-packages (from pandas_datareader) (2.28.2)\n",
      "Requirement already satisfied: pandas>=0.23 in /home/deval21/miniconda3/envs/tf/lib/python3.9/site-packages (from pandas_datareader) (1.5.3)\n",
      "Requirement already satisfied: numpy>=1.20.3 in /home/deval21/miniconda3/envs/tf/lib/python3.9/site-packages (from pandas>=0.23->pandas_datareader) (1.24.2)\n",
      "Requirement already satisfied: python-dateutil>=2.8.1 in /home/deval21/miniconda3/envs/tf/lib/python3.9/site-packages (from pandas>=0.23->pandas_datareader) (2.8.2)\n",
      "Requirement already satisfied: pytz>=2020.1 in /home/deval21/miniconda3/envs/tf/lib/python3.9/site-packages (from pandas>=0.23->pandas_datareader) (2022.7)\n",
      "Requirement already satisfied: charset-normalizer<4,>=2 in /home/deval21/miniconda3/envs/tf/lib/python3.9/site-packages (from requests>=2.19.0->pandas_datareader) (3.1.0)\n",
      "Requirement already satisfied: certifi>=2017.4.17 in /home/deval21/miniconda3/envs/tf/lib/python3.9/site-packages (from requests>=2.19.0->pandas_datareader) (2022.12.7)\n",
      "Requirement already satisfied: urllib3<1.27,>=1.21.1 in /home/deval21/miniconda3/envs/tf/lib/python3.9/site-packages (from requests>=2.19.0->pandas_datareader) (1.26.15)\n",
      "Requirement already satisfied: idna<4,>=2.5 in /home/deval21/miniconda3/envs/tf/lib/python3.9/site-packages (from requests>=2.19.0->pandas_datareader) (3.4)\n",
      "Requirement already satisfied: six>=1.5 in /home/deval21/miniconda3/envs/tf/lib/python3.9/site-packages (from python-dateutil>=2.8.1->pandas>=0.23->pandas_datareader) (1.16.0)\n",
      "Installing collected packages: pandas_datareader\n",
      "Successfully installed pandas_datareader-0.10.0\n",
      "Note: you may need to restart the kernel to use updated packages.\n"
     ]
    }
   ],
   "source": [
    "%pip install pandas_datareader"
   ]
  },
  {
   "cell_type": "code",
   "execution_count": 2,
   "id": "207daf46",
   "metadata": {},
   "outputs": [],
   "source": [
    "import pandas_datareader as pdr"
   ]
  },
  {
   "cell_type": "code",
   "execution_count": 3,
   "id": "5ba858fd",
   "metadata": {},
   "outputs": [
    {
     "name": "stderr",
     "output_type": "stream",
     "text": [
      "/tmp/ipykernel_53/4215578779.py:1: FutureWarning: In a future version of pandas all arguments of concat except for the argument 'objs' will be keyword-only.\n",
      "  df = pdr.get_data_tiingo('TSLA',api_key='9b01dc4cb99cda4b56185c879fa44ad70279c896')\n"
     ]
    }
   ],
   "source": [
    "df = pdr.get_data_tiingo('TSLA',api_key='9b01dc4cb99cda4b56185c879fa44ad70279c896')"
   ]
  },
  {
   "cell_type": "code",
   "execution_count": 4,
   "id": "3e4427a6",
   "metadata": {},
   "outputs": [],
   "source": [
    "df.to_csv('TSLA.csv')"
   ]
  },
  {
   "cell_type": "code",
   "execution_count": 5,
   "id": "cb8c3a9e",
   "metadata": {},
   "outputs": [],
   "source": [
    "import pandas as pd"
   ]
  },
  {
   "cell_type": "code",
   "execution_count": 6,
   "id": "7549f044",
   "metadata": {},
   "outputs": [
    {
     "data": {
      "text/html": [
       "<div>\n",
       "<style scoped>\n",
       "    .dataframe tbody tr th:only-of-type {\n",
       "        vertical-align: middle;\n",
       "    }\n",
       "\n",
       "    .dataframe tbody tr th {\n",
       "        vertical-align: top;\n",
       "    }\n",
       "\n",
       "    .dataframe thead th {\n",
       "        text-align: right;\n",
       "    }\n",
       "</style>\n",
       "<table border=\"1\" class=\"dataframe\">\n",
       "  <thead>\n",
       "    <tr style=\"text-align: right;\">\n",
       "      <th></th>\n",
       "      <th>symbol</th>\n",
       "      <th>date</th>\n",
       "      <th>close</th>\n",
       "      <th>high</th>\n",
       "      <th>low</th>\n",
       "      <th>open</th>\n",
       "      <th>volume</th>\n",
       "      <th>adjClose</th>\n",
       "      <th>adjHigh</th>\n",
       "      <th>adjLow</th>\n",
       "      <th>adjOpen</th>\n",
       "      <th>adjVolume</th>\n",
       "      <th>divCash</th>\n",
       "      <th>splitFactor</th>\n",
       "    </tr>\n",
       "  </thead>\n",
       "  <tbody>\n",
       "    <tr>\n",
       "      <th>0</th>\n",
       "      <td>TSLA</td>\n",
       "      <td>2018-03-26 00:00:00+00:00</td>\n",
       "      <td>304.18</td>\n",
       "      <td>307.59</td>\n",
       "      <td>291.36</td>\n",
       "      <td>307.34</td>\n",
       "      <td>8324639</td>\n",
       "      <td>20.278667</td>\n",
       "      <td>20.506000</td>\n",
       "      <td>19.424000</td>\n",
       "      <td>20.489333</td>\n",
       "      <td>124869585</td>\n",
       "      <td>0.0</td>\n",
       "      <td>1.0</td>\n",
       "    </tr>\n",
       "    <tr>\n",
       "      <th>1</th>\n",
       "      <td>TSLA</td>\n",
       "      <td>2018-03-27 00:00:00+00:00</td>\n",
       "      <td>279.18</td>\n",
       "      <td>304.27</td>\n",
       "      <td>277.18</td>\n",
       "      <td>304.00</td>\n",
       "      <td>13696168</td>\n",
       "      <td>18.612000</td>\n",
       "      <td>20.284667</td>\n",
       "      <td>18.478667</td>\n",
       "      <td>20.266667</td>\n",
       "      <td>205442520</td>\n",
       "      <td>0.0</td>\n",
       "      <td>1.0</td>\n",
       "    </tr>\n",
       "    <tr>\n",
       "      <th>2</th>\n",
       "      <td>TSLA</td>\n",
       "      <td>2018-03-28 00:00:00+00:00</td>\n",
       "      <td>257.78</td>\n",
       "      <td>268.68</td>\n",
       "      <td>252.10</td>\n",
       "      <td>264.58</td>\n",
       "      <td>21001437</td>\n",
       "      <td>17.185333</td>\n",
       "      <td>17.912000</td>\n",
       "      <td>16.806667</td>\n",
       "      <td>17.638667</td>\n",
       "      <td>315021555</td>\n",
       "      <td>0.0</td>\n",
       "      <td>1.0</td>\n",
       "    </tr>\n",
       "    <tr>\n",
       "      <th>3</th>\n",
       "      <td>TSLA</td>\n",
       "      <td>2018-03-29 00:00:00+00:00</td>\n",
       "      <td>266.13</td>\n",
       "      <td>270.96</td>\n",
       "      <td>248.21</td>\n",
       "      <td>256.49</td>\n",
       "      <td>15170749</td>\n",
       "      <td>17.742000</td>\n",
       "      <td>18.064000</td>\n",
       "      <td>16.547333</td>\n",
       "      <td>17.099333</td>\n",
       "      <td>227561235</td>\n",
       "      <td>0.0</td>\n",
       "      <td>1.0</td>\n",
       "    </tr>\n",
       "    <tr>\n",
       "      <th>4</th>\n",
       "      <td>TSLA</td>\n",
       "      <td>2018-04-02 00:00:00+00:00</td>\n",
       "      <td>252.48</td>\n",
       "      <td>260.33</td>\n",
       "      <td>244.59</td>\n",
       "      <td>256.26</td>\n",
       "      <td>16113968</td>\n",
       "      <td>16.832000</td>\n",
       "      <td>17.355333</td>\n",
       "      <td>16.306000</td>\n",
       "      <td>17.084000</td>\n",
       "      <td>241709520</td>\n",
       "      <td>0.0</td>\n",
       "      <td>1.0</td>\n",
       "    </tr>\n",
       "  </tbody>\n",
       "</table>\n",
       "</div>"
      ],
      "text/plain": [
       "  symbol                       date   close    high     low    open    volume  \\\n",
       "0   TSLA  2018-03-26 00:00:00+00:00  304.18  307.59  291.36  307.34   8324639   \n",
       "1   TSLA  2018-03-27 00:00:00+00:00  279.18  304.27  277.18  304.00  13696168   \n",
       "2   TSLA  2018-03-28 00:00:00+00:00  257.78  268.68  252.10  264.58  21001437   \n",
       "3   TSLA  2018-03-29 00:00:00+00:00  266.13  270.96  248.21  256.49  15170749   \n",
       "4   TSLA  2018-04-02 00:00:00+00:00  252.48  260.33  244.59  256.26  16113968   \n",
       "\n",
       "    adjClose    adjHigh     adjLow    adjOpen  adjVolume  divCash  splitFactor  \n",
       "0  20.278667  20.506000  19.424000  20.489333  124869585      0.0          1.0  \n",
       "1  18.612000  20.284667  18.478667  20.266667  205442520      0.0          1.0  \n",
       "2  17.185333  17.912000  16.806667  17.638667  315021555      0.0          1.0  \n",
       "3  17.742000  18.064000  16.547333  17.099333  227561235      0.0          1.0  \n",
       "4  16.832000  17.355333  16.306000  17.084000  241709520      0.0          1.0  "
      ]
     },
     "execution_count": 6,
     "metadata": {},
     "output_type": "execute_result"
    }
   ],
   "source": [
    "df = pd.read_csv('TSLA.csv')\n",
    "df.head()"
   ]
  },
  {
   "cell_type": "code",
   "execution_count": 7,
   "id": "068e1520",
   "metadata": {},
   "outputs": [
    {
     "data": {
      "text/html": [
       "<div>\n",
       "<style scoped>\n",
       "    .dataframe tbody tr th:only-of-type {\n",
       "        vertical-align: middle;\n",
       "    }\n",
       "\n",
       "    .dataframe tbody tr th {\n",
       "        vertical-align: top;\n",
       "    }\n",
       "\n",
       "    .dataframe thead th {\n",
       "        text-align: right;\n",
       "    }\n",
       "</style>\n",
       "<table border=\"1\" class=\"dataframe\">\n",
       "  <thead>\n",
       "    <tr style=\"text-align: right;\">\n",
       "      <th></th>\n",
       "      <th>symbol</th>\n",
       "      <th>date</th>\n",
       "      <th>close</th>\n",
       "      <th>high</th>\n",
       "      <th>low</th>\n",
       "      <th>open</th>\n",
       "      <th>volume</th>\n",
       "      <th>adjClose</th>\n",
       "      <th>adjHigh</th>\n",
       "      <th>adjLow</th>\n",
       "      <th>adjOpen</th>\n",
       "      <th>adjVolume</th>\n",
       "      <th>divCash</th>\n",
       "      <th>splitFactor</th>\n",
       "    </tr>\n",
       "  </thead>\n",
       "  <tbody>\n",
       "    <tr>\n",
       "      <th>1253</th>\n",
       "      <td>TSLA</td>\n",
       "      <td>2023-03-17 00:00:00+00:00</td>\n",
       "      <td>180.13</td>\n",
       "      <td>186.2199</td>\n",
       "      <td>177.33</td>\n",
       "      <td>184.515</td>\n",
       "      <td>133197140</td>\n",
       "      <td>180.13</td>\n",
       "      <td>186.2199</td>\n",
       "      <td>177.33</td>\n",
       "      <td>184.515</td>\n",
       "      <td>133197140</td>\n",
       "      <td>0.0</td>\n",
       "      <td>1.0</td>\n",
       "    </tr>\n",
       "    <tr>\n",
       "      <th>1254</th>\n",
       "      <td>TSLA</td>\n",
       "      <td>2023-03-20 00:00:00+00:00</td>\n",
       "      <td>183.25</td>\n",
       "      <td>186.4400</td>\n",
       "      <td>176.35</td>\n",
       "      <td>178.080</td>\n",
       "      <td>129684359</td>\n",
       "      <td>183.25</td>\n",
       "      <td>186.4400</td>\n",
       "      <td>176.35</td>\n",
       "      <td>178.080</td>\n",
       "      <td>129684359</td>\n",
       "      <td>0.0</td>\n",
       "      <td>1.0</td>\n",
       "    </tr>\n",
       "    <tr>\n",
       "      <th>1255</th>\n",
       "      <td>TSLA</td>\n",
       "      <td>2023-03-21 00:00:00+00:00</td>\n",
       "      <td>197.58</td>\n",
       "      <td>198.0000</td>\n",
       "      <td>188.04</td>\n",
       "      <td>188.280</td>\n",
       "      <td>153391444</td>\n",
       "      <td>197.58</td>\n",
       "      <td>198.0000</td>\n",
       "      <td>188.04</td>\n",
       "      <td>188.280</td>\n",
       "      <td>153391444</td>\n",
       "      <td>0.0</td>\n",
       "      <td>1.0</td>\n",
       "    </tr>\n",
       "    <tr>\n",
       "      <th>1256</th>\n",
       "      <td>TSLA</td>\n",
       "      <td>2023-03-22 00:00:00+00:00</td>\n",
       "      <td>191.15</td>\n",
       "      <td>200.6600</td>\n",
       "      <td>190.95</td>\n",
       "      <td>199.300</td>\n",
       "      <td>150376373</td>\n",
       "      <td>191.15</td>\n",
       "      <td>200.6600</td>\n",
       "      <td>190.95</td>\n",
       "      <td>199.300</td>\n",
       "      <td>150376373</td>\n",
       "      <td>0.0</td>\n",
       "      <td>1.0</td>\n",
       "    </tr>\n",
       "    <tr>\n",
       "      <th>1257</th>\n",
       "      <td>TSLA</td>\n",
       "      <td>2023-03-23 00:00:00+00:00</td>\n",
       "      <td>192.22</td>\n",
       "      <td>199.3100</td>\n",
       "      <td>188.65</td>\n",
       "      <td>195.260</td>\n",
       "      <td>144193876</td>\n",
       "      <td>192.22</td>\n",
       "      <td>199.3100</td>\n",
       "      <td>188.65</td>\n",
       "      <td>195.260</td>\n",
       "      <td>144193876</td>\n",
       "      <td>0.0</td>\n",
       "      <td>1.0</td>\n",
       "    </tr>\n",
       "  </tbody>\n",
       "</table>\n",
       "</div>"
      ],
      "text/plain": [
       "     symbol                       date   close      high     low     open  \\\n",
       "1253   TSLA  2023-03-17 00:00:00+00:00  180.13  186.2199  177.33  184.515   \n",
       "1254   TSLA  2023-03-20 00:00:00+00:00  183.25  186.4400  176.35  178.080   \n",
       "1255   TSLA  2023-03-21 00:00:00+00:00  197.58  198.0000  188.04  188.280   \n",
       "1256   TSLA  2023-03-22 00:00:00+00:00  191.15  200.6600  190.95  199.300   \n",
       "1257   TSLA  2023-03-23 00:00:00+00:00  192.22  199.3100  188.65  195.260   \n",
       "\n",
       "         volume  adjClose   adjHigh  adjLow  adjOpen  adjVolume  divCash  \\\n",
       "1253  133197140    180.13  186.2199  177.33  184.515  133197140      0.0   \n",
       "1254  129684359    183.25  186.4400  176.35  178.080  129684359      0.0   \n",
       "1255  153391444    197.58  198.0000  188.04  188.280  153391444      0.0   \n",
       "1256  150376373    191.15  200.6600  190.95  199.300  150376373      0.0   \n",
       "1257  144193876    192.22  199.3100  188.65  195.260  144193876      0.0   \n",
       "\n",
       "      splitFactor  \n",
       "1253          1.0  \n",
       "1254          1.0  \n",
       "1255          1.0  \n",
       "1256          1.0  \n",
       "1257          1.0  "
      ]
     },
     "execution_count": 7,
     "metadata": {},
     "output_type": "execute_result"
    }
   ],
   "source": [
    "df.tail()"
   ]
  },
  {
   "cell_type": "code",
   "execution_count": 8,
   "id": "ecc115a4",
   "metadata": {},
   "outputs": [],
   "source": [
    "df2 = df.reset_index()['close']"
   ]
  },
  {
   "cell_type": "code",
   "execution_count": 9,
   "id": "47cc123a",
   "metadata": {},
   "outputs": [
    {
     "data": {
      "text/plain": [
       "(1258,)"
      ]
     },
     "execution_count": 9,
     "metadata": {},
     "output_type": "execute_result"
    }
   ],
   "source": [
    "df2.shape"
   ]
  },
  {
   "cell_type": "code",
   "execution_count": 10,
   "id": "df324a34",
   "metadata": {},
   "outputs": [
    {
     "data": {
      "text/plain": [
       "[<matplotlib.lines.Line2D at 0x7f3600dc3ee0>]"
      ]
     },
     "execution_count": 10,
     "metadata": {},
     "output_type": "execute_result"
    },
    {
     "data": {
      "image/png": "[encoded data removed]",
      "text/plain": [
       "<Figure size 640x480 with 1 Axes>"
      ]
     },
     "metadata": {},
     "output_type": "display_data"
    }
   ],
   "source": [
    "import matplotlib.pyplot as plt\n",
    "plt.plot(df2)"
   ]
  },
  {
   "cell_type": "code",
   "execution_count": 11,
   "id": "5d112248",
   "metadata": {},
   "outputs": [],
   "source": [
    "import numpy as np"
   ]
  },
  {
   "cell_type": "code",
   "execution_count": 12,
   "id": "a571011c",
   "metadata": {},
   "outputs": [
    {
     "name": "stdout",
     "output_type": "stream",
     "text": [
      "/bin/bash: /home/deval21/miniconda3/envs/tf/lib/libtinfo.so.6: no version information available (required by /bin/bash)\n",
      "Requirement already satisfied: scikit-learn in /home/deval21/miniconda3/envs/tf/lib/python3.9/site-packages (1.2.2)\n",
      "Requirement already satisfied: threadpoolctl>=2.0.0 in /home/deval21/miniconda3/envs/tf/lib/python3.9/site-packages (from scikit-learn) (3.1.0)\n",
      "Requirement already satisfied: joblib>=1.1.1 in /home/deval21/miniconda3/envs/tf/lib/python3.9/site-packages (from scikit-learn) (1.2.0)\n",
      "Requirement already satisfied: scipy>=1.3.2 in /home/deval21/miniconda3/envs/tf/lib/python3.9/site-packages (from scikit-learn) (1.10.1)\n",
      "Requirement already satisfied: numpy>=1.17.3 in /home/deval21/miniconda3/envs/tf/lib/python3.9/site-packages (from scikit-learn) (1.24.2)\n",
      "Note: you may need to restart the kernel to use updated packages.\n",
      "/bin/bash: /home/deval21/miniconda3/envs/tf/lib/libtinfo.so.6: no version information available (required by /bin/bash)\n",
      "Requirement already satisfied: seaborn in /home/deval21/miniconda3/envs/tf/lib/python3.9/site-packages (0.12.2)\n",
      "Requirement already satisfied: pandas>=0.25 in /home/deval21/miniconda3/envs/tf/lib/python3.9/site-packages (from seaborn) (1.5.3)\n",
      "Requirement already satisfied: numpy!=1.24.0,>=1.17 in /home/deval21/miniconda3/envs/tf/lib/python3.9/site-packages (from seaborn) (1.24.2)\n",
      "Requirement already satisfied: matplotlib!=3.6.1,>=3.1 in /home/deval21/miniconda3/envs/tf/lib/python3.9/site-packages (from seaborn) (3.7.1)\n",
      "Requirement already satisfied: python-dateutil>=2.7 in /home/deval21/miniconda3/envs/tf/lib/python3.9/site-packages (from matplotlib!=3.6.1,>=3.1->seaborn) (2.8.2)\n",
      "Requirement already satisfied: importlib-resources>=3.2.0 in /home/deval21/miniconda3/envs/tf/lib/python3.9/site-packages (from matplotlib!=3.6.1,>=3.1->seaborn) (5.12.0)\n",
      "Requirement already satisfied: pyparsing>=2.3.1 in /home/deval21/miniconda3/envs/tf/lib/python3.9/site-packages (from matplotlib!=3.6.1,>=3.1->seaborn) (3.0.9)\n",
      "Requirement already satisfied: pillow>=6.2.0 in /home/deval21/miniconda3/envs/tf/lib/python3.9/site-packages (from matplotlib!=3.6.1,>=3.1->seaborn) (9.4.0)\n",
      "Requirement already satisfied: kiwisolver>=1.0.1 in /home/deval21/miniconda3/envs/tf/lib/python3.9/site-packages (from matplotlib!=3.6.1,>=3.1->seaborn) (1.4.4)\n",
      "Requirement already satisfied: fonttools>=4.22.0 in /home/deval21/miniconda3/envs/tf/lib/python3.9/site-packages (from matplotlib!=3.6.1,>=3.1->seaborn) (4.39.0)\n",
      "Requirement already satisfied: packaging>=20.0 in /home/deval21/miniconda3/envs/tf/lib/python3.9/site-packages (from matplotlib!=3.6.1,>=3.1->seaborn) (23.0)\n",
      "Requirement already satisfied: cycler>=0.10 in /home/deval21/miniconda3/envs/tf/lib/python3.9/site-packages (from matplotlib!=3.6.1,>=3.1->seaborn) (0.11.0)\n",
      "Requirement already satisfied: contourpy>=1.0.1 in /home/deval21/miniconda3/envs/tf/lib/python3.9/site-packages (from matplotlib!=3.6.1,>=3.1->seaborn) (1.0.7)\n",
      "Requirement already satisfied: pytz>=2020.1 in /home/deval21/miniconda3/envs/tf/lib/python3.9/site-packages (from pandas>=0.25->seaborn) (2022.7)\n",
      "Requirement already satisfied: zipp>=3.1.0 in /home/deval21/miniconda3/envs/tf/lib/python3.9/site-packages (from importlib-resources>=3.2.0->matplotlib!=3.6.1,>=3.1->seaborn) (3.15.0)\n",
      "Requirement already satisfied: six>=1.5 in /home/deval21/miniconda3/envs/tf/lib/python3.9/site-packages (from python-dateutil>=2.7->matplotlib!=3.6.1,>=3.1->seaborn) (1.16.0)\n",
      "Note: you may need to restart the kernel to use updated packages.\n",
      "/bin/bash: /home/deval21/miniconda3/envs/tf/lib/libtinfo.so.6: no version information available (required by /bin/bash)\n",
      "Requirement already satisfied: scipy in /home/deval21/miniconda3/envs/tf/lib/python3.9/site-packages (1.10.1)\n",
      "Requirement already satisfied: numpy<1.27.0,>=1.19.5 in /home/deval21/miniconda3/envs/tf/lib/python3.9/site-packages (from scipy) (1.24.2)\n",
      "Note: you may need to restart the kernel to use updated packages.\n",
      "/bin/bash: /home/deval21/miniconda3/envs/tf/lib/libtinfo.so.6: no version information available (required by /bin/bash)\n",
      "Requirement already satisfied: statsmodels in /home/deval21/miniconda3/envs/tf/lib/python3.9/site-packages (0.13.5)\n",
      "Requirement already satisfied: numpy>=1.17 in /home/deval21/miniconda3/envs/tf/lib/python3.9/site-packages (from statsmodels) (1.24.2)\n",
      "Requirement already satisfied: packaging>=21.3 in /home/deval21/miniconda3/envs/tf/lib/python3.9/site-packages (from statsmodels) (23.0)\n",
      "Requirement already satisfied: scipy>=1.3 in /home/deval21/miniconda3/envs/tf/lib/python3.9/site-packages (from statsmodels) (1.10.1)\n",
      "Requirement already satisfied: pandas>=0.25 in /home/deval21/miniconda3/envs/tf/lib/python3.9/site-packages (from statsmodels) (1.5.3)\n",
      "Requirement already satisfied: patsy>=0.5.2 in /home/deval21/miniconda3/envs/tf/lib/python3.9/site-packages (from statsmodels) (0.5.3)\n",
      "Requirement already satisfied: pytz>=2020.1 in /home/deval21/miniconda3/envs/tf/lib/python3.9/site-packages (from pandas>=0.25->statsmodels) (2022.7)\n",
      "Requirement already satisfied: python-dateutil>=2.8.1 in /home/deval21/miniconda3/envs/tf/lib/python3.9/site-packages (from pandas>=0.25->statsmodels) (2.8.2)\n",
      "Requirement already satisfied: six in /home/deval21/miniconda3/envs/tf/lib/python3.9/site-packages (from patsy>=0.5.2->statsmodels) (1.16.0)\n",
      "Note: you may need to restart the kernel to use updated packages.\n"
     ]
    }
   ],
   "source": [
    "%pip install scikit-learn\n",
    "%pip install seaborn\n",
    "%pip install scipy\n",
    "%pip install statsmodels"
   ]
  },
  {
   "cell_type": "code",
   "execution_count": 13,
   "id": "647487aa",
   "metadata": {},
   "outputs": [],
   "source": [
    "from sklearn.preprocessing import MinMaxScaler\n",
    "scaler = MinMaxScaler(feature_range=(0,1))\n",
    "df2 = scaler.fit_transform(np.array(df2).reshape(-1,1))"
   ]
  },
  {
   "cell_type": "code",
   "execution_count": 14,
   "id": "7e97a035",
   "metadata": {},
   "outputs": [
    {
     "data": {
      "text/plain": [
       "(1258, 1)"
      ]
     },
     "execution_count": 14,
     "metadata": {},
     "output_type": "execute_result"
    }
   ],
   "source": [
    "df2.shape"
   ]
  },
  {
   "cell_type": "code",
   "execution_count": 15,
   "id": "6a0b6411",
   "metadata": {},
   "outputs": [
    {
     "data": {
      "text/plain": [
       "array([[0.09202825],\n",
       "       [0.08029475],\n",
       "       [0.07025086],\n",
       "       ...,\n",
       "       [0.04199657],\n",
       "       [0.03897872],\n",
       "       [0.03948091]])"
      ]
     },
     "execution_count": 15,
     "metadata": {},
     "output_type": "execute_result"
    }
   ],
   "source": [
    "df2"
   ]
  },
  {
   "cell_type": "code",
   "execution_count": 16,
   "id": "23bb6b63",
   "metadata": {},
   "outputs": [],
   "source": [
    "training_size = int(len(df2)*0.65)\n",
    "test_size = len(df2) - training_size\n",
    "train_data,test_data = df2[0:training_size,:],df2[training_size:len(df2),:]"
   ]
  },
  {
   "cell_type": "code",
   "execution_count": 17,
   "id": "54016b8c",
   "metadata": {},
   "outputs": [],
   "source": [
    "import numpy\n",
    "# convert an array of values into a dataset matrix\n",
    "def create_dataset (dataset, time_step=1):\n",
    "    dataX, dataY = [], []\n",
    "    for i in range (len (dataset)-time_step-1):\n",
    "        a = dataset[i: (i+time_step), 0] ###i=0, 0,1,2,3\n",
    "        dataX.append(a)\n",
    "        dataY.append(dataset[i + time_step, 0])\n",
    "    return numpy.array(dataX), numpy.array(dataY)"
   ]
  },
  {
   "cell_type": "code",
   "execution_count": 18,
   "id": "00cd756b",
   "metadata": {},
   "outputs": [],
   "source": [
    "#reshaping the data as X=t,t+1,t+2,t+3 and Y=t+4\n",
    "timestamp = 100\n",
    "X_train,y_train = create_dataset(train_data,timestamp)\n",
    "X_test,y_test = create_dataset(test_data,timestamp)"
   ]
  },
  {
   "cell_type": "code",
   "execution_count": 19,
   "id": "a29ae6f3",
   "metadata": {},
   "outputs": [
    {
     "name": "stdout",
     "output_type": "stream",
     "text": [
      "[[0.09202825 0.08029475 0.07025086 ... 0.1165419  0.11242579 0.10822519]\n",
      " [0.08029475 0.07025086 0.07416985 ... 0.11242579 0.10822519 0.10670453]\n",
      " [0.07025086 0.07416985 0.06776336 ... 0.10822519 0.10670453 0.09264778]\n",
      " ...\n",
      " [0.36265928 0.36373407 0.35484946 ... 0.23917114 0.23056814 0.2331542 ]\n",
      " [0.36373407 0.35484946 0.34136531 ... 0.23056814 0.2331542  0.23865956]\n",
      " [0.35484946 0.34136531 0.32169995 ... 0.2331542  0.23865956 0.24180884]]\n"
     ]
    }
   ],
   "source": [
    "print(X_train)"
   ]
  },
  {
   "cell_type": "code",
   "execution_count": 20,
   "id": "2aa2e954",
   "metadata": {},
   "outputs": [
    {
     "name": "stdout",
     "output_type": "stream",
     "text": [
      "(340, 100)\n",
      "(340,)\n"
     ]
    },
    {
     "data": {
      "text/plain": [
       "(None, None)"
      ]
     },
     "execution_count": 20,
     "metadata": {},
     "output_type": "execute_result"
    }
   ],
   "source": [
    "print(X_test.shape),print(y_test.shape)"
   ]
  },
  {
   "cell_type": "code",
   "execution_count": 21,
   "id": "9daab1ec",
   "metadata": {},
   "outputs": [],
   "source": [
    "# reshaping the data to be[samples,timesteps,features] for our LSTM model\n",
    "X_train =X_train.reshape (X_train.shape [0],X_train.shape [1], 1)\n",
    "X_test= X_test.reshape (X_test.shape [0],X_test.shape [1], 1)"
   ]
  },
  {
   "cell_type": "code",
   "execution_count": 22,
   "id": "df28a2ce",
   "metadata": {},
   "outputs": [
    {
     "data": {
      "text/plain": [
       "array([[[0.09202825],\n",
       "        [0.08029475],\n",
       "        [0.07025086],\n",
       "        ...,\n",
       "        [0.1165419 ],\n",
       "        [0.11242579],\n",
       "        [0.10822519]],\n",
       "\n",
       "       [[0.08029475],\n",
       "        [0.07025086],\n",
       "        [0.07416985],\n",
       "        ...,\n",
       "        [0.11242579],\n",
       "        [0.10822519],\n",
       "        [0.10670453]],\n",
       "\n",
       "       [[0.07025086],\n",
       "        [0.07416985],\n",
       "        [0.06776336],\n",
       "        ...,\n",
       "        [0.10822519],\n",
       "        [0.10670453],\n",
       "        [0.09264778]],\n",
       "\n",
       "       ...,\n",
       "\n",
       "       [[0.36265928],\n",
       "        [0.36373407],\n",
       "        [0.35484946],\n",
       "        ...,\n",
       "        [0.23917114],\n",
       "        [0.23056814],\n",
       "        [0.2331542 ]],\n",
       "\n",
       "       [[0.36373407],\n",
       "        [0.35484946],\n",
       "        [0.34136531],\n",
       "        ...,\n",
       "        [0.23056814],\n",
       "        [0.2331542 ],\n",
       "        [0.23865956]],\n",
       "\n",
       "       [[0.35484946],\n",
       "        [0.34136531],\n",
       "        [0.32169995],\n",
       "        ...,\n",
       "        [0.2331542 ],\n",
       "        [0.23865956],\n",
       "        [0.24180884]]])"
      ]
     },
     "execution_count": 22,
     "metadata": {},
     "output_type": "execute_result"
    }
   ],
   "source": [
    "X_train"
   ]
  },
  {
   "cell_type": "code",
   "execution_count": 23,
   "id": "8fab9f22",
   "metadata": {},
   "outputs": [
    {
     "data": {
      "text/plain": [
       "array([[[0.2574191 ],\n",
       "        [0.26833126],\n",
       "        [0.2646    ],\n",
       "        ...,\n",
       "        [0.42963415],\n",
       "        [0.45049633],\n",
       "        [0.44841246]],\n",
       "\n",
       "       [[0.26833126],\n",
       "        [0.2646    ],\n",
       "        [0.27250839],\n",
       "        ...,\n",
       "        [0.45049633],\n",
       "        [0.44841246],\n",
       "        [0.43429001]],\n",
       "\n",
       "       [[0.2646    ],\n",
       "        [0.27250839],\n",
       "        [0.26877244],\n",
       "        ...,\n",
       "        [0.44841246],\n",
       "        [0.43429001],\n",
       "        [0.42488912]],\n",
       "\n",
       "       ...,\n",
       "\n",
       "       [[0.04841246],\n",
       "        [0.05365264],\n",
       "        [0.05469692],\n",
       "        ...,\n",
       "        [0.03395677],\n",
       "        [0.03568395],\n",
       "        [0.03380658]],\n",
       "\n",
       "       [[0.05365264],\n",
       "        [0.05469692],\n",
       "        [0.05490813],\n",
       "        ...,\n",
       "        [0.03568395],\n",
       "        [0.03380658],\n",
       "        [0.03527093]],\n",
       "\n",
       "       [[0.05469692],\n",
       "        [0.05490813],\n",
       "        [0.05651796],\n",
       "        ...,\n",
       "        [0.03380658],\n",
       "        [0.03527093],\n",
       "        [0.04199657]]])"
      ]
     },
     "execution_count": 23,
     "metadata": {},
     "output_type": "execute_result"
    }
   ],
   "source": [
    "X_test"
   ]
  },
  {
   "cell_type": "code",
   "execution_count": 24,
   "id": "f241ab2d",
   "metadata": {},
   "outputs": [
    {
     "name": "stderr",
     "output_type": "stream",
     "text": [
      "2023-03-24 10:54:25.946651: I tensorflow/core/platform/cpu_feature_guard.cc:193] This TensorFlow binary is optimized with oneAPI Deep Neural Network Library (oneDNN) to use the following CPU instructions in performance-critical operations:  AVX2 FMA\n",
      "To enable them in other operations, rebuild TensorFlow with the appropriate compiler flags.\n",
      "2023-03-24 10:54:28.971189: W tensorflow/compiler/xla/stream_executor/platform/default/dso_loader.cc:64] Could not load dynamic library 'libnvinfer.so.7'; dlerror: libnvinfer.so.7: cannot open shared object file: No such file or directory; LD_LIBRARY_PATH: :/home/deval21/miniconda3/envs/tf/lib/\n",
      "2023-03-24 10:54:28.980046: W tensorflow/compiler/xla/stream_executor/platform/default/dso_loader.cc:64] Could not load dynamic library 'libnvinfer_plugin.so.7'; dlerror: libnvinfer_plugin.so.7: cannot open shared object file: No such file or directory; LD_LIBRARY_PATH: :/home/deval21/miniconda3/envs/tf/lib/\n",
      "2023-03-24 10:54:28.980082: W tensorflow/compiler/tf2tensorrt/utils/py_utils.cc:38] TF-TRT Warning: Cannot dlopen some TensorRT libraries. If you would like to use Nvidia GPU with TensorRT, please make sure the missing libraries mentioned above are installed properly.\n"
     ]
    }
   ],
   "source": [
    "# Creating the model\n",
    "from tensorflow.keras.models import Sequential\n",
    "from tensorflow.keras.layers import Dense\n",
    "from tensorflow.keras.layers import LSTM"
   ]
  },
  {
   "cell_type": "code",
   "execution_count": 31,
   "id": "2fcdf8ca",
   "metadata": {},
   "outputs": [],
   "source": [
    "with tf.device('/CPU:0'):\n",
    "    model = Sequential()\n",
    "    model.add(LSTM(50,return_sequences=True,input_shape=(100,1)))\n",
    "    model.add(LSTM(50,return_sequences=True))\n",
    "    model.add(LSTM(50))\n",
    "    model.add(Dense(1))\n",
    "    model.compile(loss='mean_squared_error',optimizer='adam')"
   ]
  },
  {
   "cell_type": "code",
   "execution_count": 32,
   "id": "3433dc4d",
   "metadata": {},
   "outputs": [
    {
     "name": "stdout",
     "output_type": "stream",
     "text": [
      "Model: \"sequential_1\"\n",
      "_________________________________________________________________\n",
      " Layer (type)                Output Shape              Param #   \n",
      "=================================================================\n",
      " lstm_3 (LSTM)               (None, 100, 50)           10400     \n",
      "                                                                 \n",
      " lstm_4 (LSTM)               (None, 100, 50)           20200     \n",
      "                                                                 \n",
      " lstm_5 (LSTM)               (None, 50)                20200     \n",
      "                                                                 \n",
      " dense_1 (Dense)             (None, 1)                 51        \n",
      "                                                                 \n",
      "=================================================================\n",
      "Total params: 50,851\n",
      "Trainable params: 50,851\n",
      "Non-trainable params: 0\n",
      "_________________________________________________________________\n"
     ]
    }
   ],
   "source": [
    "model.summary()"
   ]
  },
  {
   "cell_type": "code",
   "execution_count": 33,
   "id": "f91a1401",
   "metadata": {},
   "outputs": [
    {
     "name": "stdout",
     "output_type": "stream",
     "text": [
      "Epoch 1/100\n"
     ]
    },
    {
     "name": "stderr",
     "output_type": "stream",
     "text": [
      "2023-03-24 10:58:36.132388: I tensorflow/compiler/xla/service/service.cc:173] XLA service 0x7f34e0260470 initialized for platform Host (this does not guarantee that XLA will be used). Devices:\n",
      "2023-03-24 10:58:36.132506: I tensorflow/compiler/xla/service/service.cc:181]   StreamExecutor device (0): Host, Default Version\n",
      "2023-03-24 10:58:36.176804: I tensorflow/compiler/mlir/tensorflow/utils/dump_mlir_util.cc:268] disabling MLIR crash reproducer, set env var `MLIR_CRASH_REPRODUCER_DIRECTORY` to enable.\n",
      "2023-03-24 10:58:36.381245: I tensorflow/compiler/jit/xla_compilation_cache.cc:477] Compiled cluster using XLA!  This line is logged at most once for the lifetime of the process.\n"
     ]
    },
    {
     "name": "stdout",
     "output_type": "stream",
     "text": [
      "12/12 [==============================] - 9s 332ms/step - loss: 0.0256 - val_loss: 0.0144\n",
      "Epoch 2/100\n",
      "12/12 [==============================] - 3s 234ms/step - loss: 0.0136 - val_loss: 0.0070\n",
      "Epoch 3/100\n",
      "12/12 [==============================] - 3s 226ms/step - loss: 0.0093 - val_loss: 0.0046\n",
      "Epoch 4/100\n",
      "12/12 [==============================] - 3s 259ms/step - loss: 0.0073 - val_loss: 0.0040\n",
      "Epoch 5/100\n",
      "12/12 [==============================] - 3s 250ms/step - loss: 0.0072 - val_loss: 0.0030\n",
      "Epoch 6/100\n",
      "12/12 [==============================] - 3s 271ms/step - loss: 0.0063 - val_loss: 0.0027\n",
      "Epoch 7/100\n",
      "12/12 [==============================] - 3s 279ms/step - loss: 0.0059 - val_loss: 0.0024\n",
      "Epoch 8/100\n",
      "12/12 [==============================] - 3s 251ms/step - loss: 0.0062 - val_loss: 0.0060\n",
      "Epoch 9/100\n",
      "12/12 [==============================] - 3s 225ms/step - loss: 0.0077 - val_loss: 0.0024\n",
      "Epoch 10/100\n",
      "12/12 [==============================] - 3s 228ms/step - loss: 0.0059 - val_loss: 0.0024\n",
      "Epoch 11/100\n",
      "12/12 [==============================] - 3s 243ms/step - loss: 0.0047 - val_loss: 0.0019\n",
      "Epoch 12/100\n",
      "12/12 [==============================] - 3s 233ms/step - loss: 0.0044 - val_loss: 0.0018\n",
      "Epoch 13/100\n",
      "12/12 [==============================] - 3s 223ms/step - loss: 0.0044 - val_loss: 0.0018\n",
      "Epoch 14/100\n",
      "12/12 [==============================] - 3s 234ms/step - loss: 0.0043 - val_loss: 0.0017\n",
      "Epoch 15/100\n",
      "12/12 [==============================] - 3s 231ms/step - loss: 0.0036 - val_loss: 0.0020\n",
      "Epoch 16/100\n",
      "12/12 [==============================] - 3s 231ms/step - loss: 0.0034 - val_loss: 0.0021\n",
      "Epoch 17/100\n",
      "12/12 [==============================] - 3s 229ms/step - loss: 0.0030 - val_loss: 0.0027\n",
      "Epoch 18/100\n",
      "12/12 [==============================] - 3s 223ms/step - loss: 0.0027 - val_loss: 0.0014\n",
      "Epoch 19/100\n",
      "12/12 [==============================] - 3s 265ms/step - loss: 0.0039 - val_loss: 0.0023\n",
      "Epoch 20/100\n",
      "12/12 [==============================] - 3s 236ms/step - loss: 0.0026 - val_loss: 0.0019\n",
      "Epoch 21/100\n",
      "12/12 [==============================] - 3s 226ms/step - loss: 0.0019 - val_loss: 0.0017\n",
      "Epoch 22/100\n",
      "12/12 [==============================] - 3s 229ms/step - loss: 0.0017 - val_loss: 0.0016\n",
      "Epoch 23/100\n",
      "12/12 [==============================] - 3s 233ms/step - loss: 0.0016 - val_loss: 0.0016\n",
      "Epoch 24/100\n",
      "12/12 [==============================] - 3s 225ms/step - loss: 0.0018 - val_loss: 0.0016\n",
      "Epoch 25/100\n",
      "12/12 [==============================] - 3s 221ms/step - loss: 0.0022 - val_loss: 0.0016\n",
      "Epoch 26/100\n",
      "12/12 [==============================] - 3s 228ms/step - loss: 0.0017 - val_loss: 0.0014\n",
      "Epoch 27/100\n",
      "12/12 [==============================] - 3s 221ms/step - loss: 0.0013 - val_loss: 0.0016\n",
      "Epoch 28/100\n",
      "12/12 [==============================] - 3s 236ms/step - loss: 0.0014 - val_loss: 0.0018\n",
      "Epoch 29/100\n",
      "12/12 [==============================] - 3s 233ms/step - loss: 0.0014 - val_loss: 0.0014\n",
      "Epoch 30/100\n",
      "12/12 [==============================] - 3s 225ms/step - loss: 0.0015 - val_loss: 0.0014\n",
      "Epoch 31/100\n",
      "12/12 [==============================] - 3s 241ms/step - loss: 0.0015 - val_loss: 0.0014\n",
      "Epoch 32/100\n",
      "12/12 [==============================] - 3s 233ms/step - loss: 0.0013 - val_loss: 0.0015\n",
      "Epoch 33/100\n",
      "12/12 [==============================] - 3s 260ms/step - loss: 0.0011 - val_loss: 0.0017\n",
      "Epoch 34/100\n",
      "12/12 [==============================] - 3s 264ms/step - loss: 0.0012 - val_loss: 0.0017\n",
      "Epoch 35/100\n",
      "12/12 [==============================] - 3s 275ms/step - loss: 0.0011 - val_loss: 0.0015\n",
      "Epoch 36/100\n",
      "12/12 [==============================] - 3s 245ms/step - loss: 0.0011 - val_loss: 0.0015\n",
      "Epoch 37/100\n",
      "12/12 [==============================] - 3s 244ms/step - loss: 0.0010 - val_loss: 0.0018\n",
      "Epoch 38/100\n",
      "12/12 [==============================] - 3s 226ms/step - loss: 0.0012 - val_loss: 0.0020\n",
      "Epoch 39/100\n",
      "12/12 [==============================] - 3s 265ms/step - loss: 0.0013 - val_loss: 0.0021\n",
      "Epoch 40/100\n",
      "12/12 [==============================] - 3s 275ms/step - loss: 0.0011 - val_loss: 0.0016\n",
      "Epoch 41/100\n",
      "12/12 [==============================] - 4s 374ms/step - loss: 0.0010 - val_loss: 0.0014\n",
      "Epoch 42/100\n",
      "12/12 [==============================] - 4s 373ms/step - loss: 0.0012 - val_loss: 0.0016\n",
      "Epoch 43/100\n",
      "12/12 [==============================] - 4s 340ms/step - loss: 0.0011 - val_loss: 0.0016\n",
      "Epoch 44/100\n",
      "12/12 [==============================] - 3s 266ms/step - loss: 9.5534e-04 - val_loss: 0.0017\n",
      "Epoch 45/100\n",
      "12/12 [==============================] - 3s 291ms/step - loss: 9.1984e-04 - val_loss: 0.0014\n",
      "Epoch 46/100\n",
      "12/12 [==============================] - 4s 333ms/step - loss: 9.7265e-04 - val_loss: 0.0017\n",
      "Epoch 47/100\n",
      "12/12 [==============================] - 3s 257ms/step - loss: 9.9020e-04 - val_loss: 0.0017\n",
      "Epoch 48/100\n",
      "12/12 [==============================] - 3s 249ms/step - loss: 0.0012 - val_loss: 0.0017\n",
      "Epoch 49/100\n",
      "12/12 [==============================] - 3s 236ms/step - loss: 0.0018 - val_loss: 0.0014\n",
      "Epoch 50/100\n",
      "12/12 [==============================] - 3s 233ms/step - loss: 0.0014 - val_loss: 0.0014\n",
      "Epoch 51/100\n",
      "12/12 [==============================] - 3s 238ms/step - loss: 0.0012 - val_loss: 0.0013\n",
      "Epoch 52/100\n",
      "12/12 [==============================] - 3s 231ms/step - loss: 0.0014 - val_loss: 0.0013\n",
      "Epoch 53/100\n",
      "12/12 [==============================] - 3s 235ms/step - loss: 0.0011 - val_loss: 0.0013\n",
      "Epoch 54/100\n",
      "12/12 [==============================] - 3s 234ms/step - loss: 0.0011 - val_loss: 0.0012\n",
      "Epoch 55/100\n",
      "12/12 [==============================] - 3s 240ms/step - loss: 0.0013 - val_loss: 0.0013\n",
      "Epoch 56/100\n",
      "12/12 [==============================] - 3s 231ms/step - loss: 9.9461e-04 - val_loss: 0.0012\n",
      "Epoch 57/100\n",
      "12/12 [==============================] - 3s 230ms/step - loss: 0.0011 - val_loss: 0.0012\n",
      "Epoch 58/100\n",
      "12/12 [==============================] - 3s 230ms/step - loss: 0.0014 - val_loss: 0.0012\n",
      "Epoch 59/100\n",
      "12/12 [==============================] - 3s 230ms/step - loss: 0.0012 - val_loss: 0.0012\n",
      "Epoch 60/100\n",
      "12/12 [==============================] - 3s 231ms/step - loss: 0.0010 - val_loss: 0.0014\n",
      "Epoch 61/100\n",
      "12/12 [==============================] - 3s 224ms/step - loss: 0.0036 - val_loss: 0.0014\n",
      "Epoch 62/100\n",
      "12/12 [==============================] - 3s 239ms/step - loss: 0.0020 - val_loss: 0.0019\n",
      "Epoch 63/100\n",
      "12/12 [==============================] - 3s 237ms/step - loss: 0.0012 - val_loss: 0.0029\n",
      "Epoch 64/100\n",
      "12/12 [==============================] - 3s 236ms/step - loss: 0.0028 - val_loss: 0.0035\n",
      "Epoch 65/100\n",
      "12/12 [==============================] - 3s 249ms/step - loss: 0.0018 - val_loss: 0.0026\n",
      "Epoch 66/100\n",
      "12/12 [==============================] - 3s 227ms/step - loss: 0.0015 - val_loss: 0.0013\n",
      "Epoch 67/100\n",
      "12/12 [==============================] - 3s 233ms/step - loss: 0.0013 - val_loss: 0.0012\n",
      "Epoch 68/100\n",
      "12/12 [==============================] - 3s 238ms/step - loss: 0.0011 - val_loss: 0.0013\n",
      "Epoch 69/100\n",
      "12/12 [==============================] - 3s 232ms/step - loss: 0.0012 - val_loss: 0.0013\n",
      "Epoch 70/100\n",
      "12/12 [==============================] - 3s 227ms/step - loss: 0.0013 - val_loss: 0.0012\n",
      "Epoch 71/100\n",
      "12/12 [==============================] - 3s 235ms/step - loss: 0.0011 - val_loss: 0.0012\n",
      "Epoch 72/100\n",
      "12/12 [==============================] - 3s 234ms/step - loss: 0.0014 - val_loss: 0.0012\n",
      "Epoch 73/100\n",
      "12/12 [==============================] - 3s 230ms/step - loss: 9.4611e-04 - val_loss: 0.0013\n",
      "Epoch 74/100\n",
      "12/12 [==============================] - 3s 231ms/step - loss: 8.9525e-04 - val_loss: 0.0014\n",
      "Epoch 75/100\n",
      "12/12 [==============================] - 3s 230ms/step - loss: 9.4720e-04 - val_loss: 0.0015\n",
      "Epoch 76/100\n",
      "12/12 [==============================] - 3s 231ms/step - loss: 0.0010 - val_loss: 0.0014\n",
      "Epoch 77/100\n",
      "12/12 [==============================] - 3s 232ms/step - loss: 8.8199e-04 - val_loss: 0.0013\n",
      "Epoch 78/100\n",
      "12/12 [==============================] - 3s 231ms/step - loss: 9.5727e-04 - val_loss: 0.0013\n",
      "Epoch 79/100\n",
      "12/12 [==============================] - 3s 228ms/step - loss: 0.0022 - val_loss: 0.0013\n",
      "Epoch 80/100\n",
      "12/12 [==============================] - 3s 232ms/step - loss: 0.0018 - val_loss: 0.0012\n",
      "Epoch 81/100\n"
     ]
    },
    {
     "name": "stdout",
     "output_type": "stream",
     "text": [
      "12/12 [==============================] - 3s 230ms/step - loss: 0.0016 - val_loss: 0.0017\n",
      "Epoch 82/100\n",
      "12/12 [==============================] - 3s 278ms/step - loss: 0.0012 - val_loss: 0.0027\n",
      "Epoch 83/100\n",
      "12/12 [==============================] - 3s 281ms/step - loss: 0.0011 - val_loss: 0.0018\n",
      "Epoch 84/100\n",
      "12/12 [==============================] - 5s 397ms/step - loss: 0.0011 - val_loss: 0.0013\n",
      "Epoch 85/100\n",
      "12/12 [==============================] - 3s 253ms/step - loss: 0.0013 - val_loss: 0.0021\n",
      "Epoch 86/100\n",
      "12/12 [==============================] - 3s 286ms/step - loss: 0.0014 - val_loss: 0.0019\n",
      "Epoch 87/100\n",
      "12/12 [==============================] - 4s 293ms/step - loss: 0.0011 - val_loss: 0.0016\n",
      "Epoch 88/100\n",
      "12/12 [==============================] - 3s 248ms/step - loss: 0.0011 - val_loss: 0.0013\n",
      "Epoch 89/100\n",
      "12/12 [==============================] - 3s 237ms/step - loss: 0.0010 - val_loss: 0.0012\n",
      "Epoch 90/100\n",
      "12/12 [==============================] - 3s 232ms/step - loss: 0.0012 - val_loss: 0.0013\n",
      "Epoch 91/100\n",
      "12/12 [==============================] - 3s 237ms/step - loss: 0.0011 - val_loss: 0.0013\n",
      "Epoch 92/100\n",
      "12/12 [==============================] - 3s 231ms/step - loss: 9.8913e-04 - val_loss: 0.0013\n",
      "Epoch 93/100\n",
      "12/12 [==============================] - 3s 234ms/step - loss: 9.7889e-04 - val_loss: 0.0013\n",
      "Epoch 94/100\n",
      "12/12 [==============================] - 3s 233ms/step - loss: 0.0011 - val_loss: 0.0013\n",
      "Epoch 95/100\n",
      "12/12 [==============================] - 3s 231ms/step - loss: 9.7894e-04 - val_loss: 0.0015\n",
      "Epoch 96/100\n",
      "12/12 [==============================] - 3s 236ms/step - loss: 9.6898e-04 - val_loss: 0.0013\n",
      "Epoch 97/100\n",
      "12/12 [==============================] - 3s 231ms/step - loss: 8.0494e-04 - val_loss: 0.0016\n",
      "Epoch 98/100\n",
      "12/12 [==============================] - 3s 233ms/step - loss: 0.0019 - val_loss: 0.0015\n",
      "Epoch 99/100\n",
      "12/12 [==============================] - 3s 238ms/step - loss: 0.0014 - val_loss: 0.0015\n",
      "Epoch 100/100\n",
      "12/12 [==============================] - 3s 233ms/step - loss: 0.0011 - val_loss: 0.0013\n"
     ]
    }
   ],
   "source": [
    "import tensorflow as tf\n",
    "with tf.device('/CPU:0'):\n",
    "    model.fit(X_train,y_train,validation_data=(X_test,y_test),epochs=100,batch_size=64,verbose=1)"
   ]
  },
  {
   "cell_type": "code",
   "execution_count": 35,
   "id": "3925c6a3",
   "metadata": {},
   "outputs": [
    {
     "name": "stdout",
     "output_type": "stream",
     "text": [
      "23/23 [==============================] - 1s 26ms/step\n",
      "11/11 [==============================] - 0s 28ms/step\n"
     ]
    }
   ],
   "source": [
    "train_predict = model.predict(X_train)\n",
    "test_predict = model.predict(X_test)"
   ]
  },
  {
   "cell_type": "code",
   "execution_count": 36,
   "id": "f47268f0",
   "metadata": {},
   "outputs": [],
   "source": [
    "# Transforming data to original form for evaluation\n",
    "train_predict=scaler.inverse_transform(train_predict)\n",
    "test_predict=scaler.inverse_transform(test_predict)"
   ]
  },
  {
   "cell_type": "code",
   "execution_count": 37,
   "id": "d92d30bc",
   "metadata": {},
   "outputs": [
    {
     "data": {
      "text/plain": [
       "636.996526739483"
      ]
     },
     "execution_count": 37,
     "metadata": {},
     "output_type": "execute_result"
    }
   ],
   "source": [
    "import math\n",
    "from sklearn.metrics import mean_squared_error\n",
    "math.sqrt(mean_squared_error(y_train,train_predict))"
   ]
  },
  {
   "cell_type": "code",
   "execution_count": 39,
   "id": "3693117d",
   "metadata": {},
   "outputs": [
    {
     "data": {
      "text/plain": [
       "726.6241211160408"
      ]
     },
     "execution_count": 39,
     "metadata": {},
     "output_type": "execute_result"
    }
   ],
   "source": [
    "math.sqrt(mean_squared_error(y_test,test_predict))"
   ]
  },
  {
   "cell_type": "code",
   "execution_count": 47,
   "id": "77d57954",
   "metadata": {},
   "outputs": [
    {
     "data": {
      "image/png": "[encoded data removed]",
      "text/plain": [
       "<Figure size 640x480 with 1 Axes>"
      ]
     },
     "metadata": {},
     "output_type": "display_data"
    }
   ],
   "source": [
    "look_back=100\n",
    "trainPredictPlot = numpy.empty_like(df2)\n",
    "trainPredictPlot[:, :] = np. nan\n",
    "trainPredictPlot [look_back: len(train_predict) +look_back, :] = train_predict\n",
    "#shift test predictions for plotting\n",
    "testPredictPlot = numpy.empty_like(df2)\n",
    "testPredictPlot[:, :] = numpy.nan\n",
    "testPredictPlot [len (train_predict)+(look_back*2)+1:len (df2)-1, :] = test_predict\n",
    "# plot baseline and predictions\n",
    "plt.plot(scaler.inverse_transform(df2))\n",
    "plt.plot(trainPredictPlot) \n",
    "plt.plot(testPredictPlot)\n",
    "plt.show()"
   ]
  },
  {
   "cell_type": "code",
   "execution_count": 48,
   "id": "a99c1792",
   "metadata": {},
   "outputs": [
    {
     "data": {
      "text/plain": [
       "441"
      ]
     },
     "execution_count": 48,
     "metadata": {},
     "output_type": "execute_result"
    }
   ],
   "source": [
    "len(test_data)"
   ]
  },
  {
   "cell_type": "code",
   "execution_count": 49,
   "id": "1ef18e68",
   "metadata": {},
   "outputs": [
    {
     "data": {
      "text/plain": [
       "341"
      ]
     },
     "execution_count": 49,
     "metadata": {},
     "output_type": "execute_result"
    }
   ],
   "source": [
    "441 - 100"
   ]
  },
  {
   "cell_type": "code",
   "execution_count": null,
   "id": "5905d597",
   "metadata": {},
   "outputs": [],
   "source": []
  }
 ],
 "metadata": {
  "kernelspec": {
   "display_name": "Python 3 (ipykernel)",
   "language": "python",
   "name": "python3"
  },
  "language_info": {
   "codemirror_mode": {
    "name": "ipython",
    "version": 3
   },
   "file_extension": ".py",
   "mimetype": "text/x-python",
   "name": "python",
   "nbconvert_exporter": "python",
   "pygments_lexer": "ipython3",
   "version": "3.9.16"
  }
 },
 "nbformat": 4,
 "nbformat_minor": 5
}
